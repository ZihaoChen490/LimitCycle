{
 "cells": [
  {
   "cell_type": "code",
   "execution_count": 0,
   "metadata": {
    "colab": {},
    "colab_type": "code",
    "id": "1qN6kVEz3a7v"
   },
   "outputs": [],
   "source": [
    "# !wget https://www.dropbox.com/s/wmw93urz7e4mqo5/control_beats_6.npy\n",
    "# beats = np.load('control_beats_6.npy')"
   ]
  },
  {
   "cell_type": "code",
   "execution_count": 1,
   "metadata": {
    "colab": {},
    "colab_type": "code",
    "id": "q6dmtsw_3cMt"
   },
   "outputs": [],
   "source": [
    "import os\n",
    "import time\n",
    "import numpy as np\n",
    "import numpy.random as npr\n",
    "import matplotlib.pyplot as plt\n",
    "\n",
    "import torch\n",
    "import torch.nn as nn\n",
    "import torch.optim as optim\n",
    "import torch.nn.functional as F\n",
    "\n",
    "# from torchdiffeq.torchdiffeq import odeint\n",
    "\n",
    "device = torch.device(\"cuda\" if torch.cuda.is_available() else \"cpu\")\n",
    "\n",
    "from torchdiffeq import odeint"
   ]
  },
  {
   "cell_type": "code",
   "execution_count": 2,
   "metadata": {
    "colab": {},
    "colab_type": "code",
    "id": "6wg7n5aV4tBz"
   },
   "outputs": [],
   "source": [
    "batch_time = 10\n",
    "batch_size = 20\n",
    "data_size = 200\n",
    "\n",
    "viz = True"
   ]
  },
  {
   "cell_type": "code",
   "execution_count": 3,
   "metadata": {
    "colab": {},
    "colab_type": "code",
    "id": "0Ig_nh6y4f3H"
   },
   "outputs": [],
   "source": [
    "def get_batch():\n",
    "    s = torch.from_numpy(np.random.choice(np.arange(data_size - batch_time, dtype=np.int64), batch_size, replace=False))\n",
    "    batch_y0 = true_y[s]  # (M, D)\n",
    "    batch_t = t[:batch_time]  # (T)\n",
    "    batch_y = torch.stack([true_y[s + i] for i in range(batch_time)], dim=0)  # (T, M, D)\n",
    "    return batch_y0, batch_t, batch_y\n",
    "\n",
    "\n",
    "def makedirs(dirname):\n",
    "    if not os.path.exists(dirname):\n",
    "        os.makedirs(dirname)"
   ]
  },
  {
   "cell_type": "code",
   "execution_count": 4,
   "metadata": {
    "colab": {},
    "colab_type": "code",
    "id": "-E_KQScOSrYj"
   },
   "outputs": [],
   "source": [
    "DATA_TYPE = 'NNET_MORE'"
   ]
  },
  {
   "cell_type": "code",
   "execution_count": 5,
   "metadata": {
    "colab": {},
    "colab_type": "code",
    "id": "Jf9zrQne5h1j"
   },
   "outputs": [],
   "source": [
    "if viz:\n",
    "    makedirs(DATA_TYPE)\n",
    "    import matplotlib.pyplot as plt\n",
    "\n",
    "def visualize(true_y, pred_y, odefunc, itr):\n",
    "  \n",
    "    if viz:\n",
    "      \n",
    "        plt.figure()\n",
    "        plt.plot(t.numpy(), true_y.numpy()[:, 0, 0], t.numpy(), true_y.numpy()[:, 0, 1], 'g-')\n",
    "        plt.plot(t.numpy(), pred_y.numpy()[:, 0, 0], '--', t.numpy(), pred_y.numpy()[:, 0, 1], 'b--')\n",
    "        plt.savefig(DATA_TYPE + '/ts' + str(itr) + '.png')\n",
    "        plt.show()\n",
    "        \n",
    "        plt.figure()\n",
    "        plt.plot(true_y.numpy()[:, 0, 0], true_y.numpy()[:, 0, 1], 'g-')\n",
    "        plt.plot(pred_y.numpy()[:, 0, 0], pred_y.numpy()[:, 0, 1], 'b--')\n",
    "        plt.savefig(DATA_TYPE + '/phase' + str(itr) + '.png')\n",
    "        plt.show()"
   ]
  },
  {
   "cell_type": "code",
   "execution_count": 6,
   "metadata": {
    "colab": {},
    "colab_type": "code",
    "id": "ObgT2pd54yXw"
   },
   "outputs": [],
   "source": [
    "class RunningAverageMeter(object):\n",
    "    \"\"\"Computes and stores the average and current value\"\"\"\n",
    "\n",
    "    def __init__(self, momentum=0.99):\n",
    "        self.momentum = momentum\n",
    "        self.reset()\n",
    "\n",
    "    def reset(self):\n",
    "        self.val = None\n",
    "        self.avg = 0\n",
    "\n",
    "    def update(self, val):\n",
    "        if self.val is None:\n",
    "            self.avg = val\n",
    "        else:\n",
    "            self.avg = self.avg * self.momentum + val * (1 - self.momentum)\n",
    "        self.val = val"
   ]
  },
  {
   "cell_type": "code",
   "execution_count": 7,
   "metadata": {
    "colab": {},
    "colab_type": "code",
    "id": "MYIbsANj8Upx"
   },
   "outputs": [],
   "source": [
    "class ODEFunc(nn.Module):\n",
    "\n",
    "    def __init__(self):\n",
    "        super(ODEFunc, self).__init__()\n",
    "\n",
    "        self.net = nn.Sequential(\n",
    "            nn.Linear(2, 50),\n",
    "            nn.Tanh(),\n",
    "            nn.Linear(50, 2),\n",
    "        )\n",
    "\n",
    "        for m in self.net.modules():\n",
    "            if isinstance(m, nn.Linear):\n",
    "                nn.init.normal_(m.weight, mean=0, std=0.1)\n",
    "                nn.init.constant_(m.bias, val=0)\n",
    "\n",
    "    def forward(self, t, y):\n",
    "        return self.net(y)\n"
   ]
  },
  {
   "cell_type": "code",
   "execution_count": 8,
   "metadata": {
    "colab": {},
    "colab_type": "code",
    "id": "73k21V_VEfd-"
   },
   "outputs": [],
   "source": [
    "true_y0 = torch.tensor([[1., 1.]])\n",
    "t = torch.linspace(-1., 1., data_size)\n",
    "\n",
    "# true_A = torch.tensor([[-0.1, 2.0], [-2.0, -0.1]])\n",
    "# true_A = torch.randn(2, 2)/2.\n",
    "\n",
    "# a, b, c, d = 1.5, 1.0, 3.0, 1.0\n",
    "# true_A = torch.tensor([[0., -b*c/d], [d*a/b, 0.]])\n",
    "\n",
    "# true_A2 = torch.tensor([[-0.1, -0.5], [0.5, -0.1]])\n",
    "# true_B2 = torch.tensor([[0.2, 1.], [-1, 0.2]])\n",
    "\n",
    "class Lambda(nn.Module):\n",
    "\n",
    "    def forward(self, t, y):\n",
    "        return torch.mm(y, true_A)\n",
    "   \n",
    "      \n",
    "class Lambda2(nn.Module):\n",
    "    \n",
    "    def __init__(self, A, B):\n",
    "        super(Lambda2, self).__init__()\n",
    "        self.A = nn.Linear(2, 2, bias=False)\n",
    "        self.A.weight = nn.Parameter(A)\n",
    "        self.B = nn.Linear(2, 2, bias=False)\n",
    "        self.B.weight = nn.Parameter(B)\n",
    "    \n",
    "    def forward(self, t, y):\n",
    "        xTx0 = torch.sum(y * true_y0, dim=1)\n",
    "        dxdt = torch.sigmoid(xTx0) * self.A(y - true_y0) + torch.sigmoid(-xTx0) * self.B(y + true_y0)\n",
    "        return dxdt\n",
    "      \n",
    "# with torch.no_grad():\n",
    "#     true_y = odeint(Lambda2(true_A2, true_B2), true_y0, t, method='dopri5')\n",
    "    \n",
    "# with torch.no_grad():\n",
    "#     true_y = odeint(Lambda(), true_y0, t, method='dopri5')"
   ]
  },
  {
   "cell_type": "code",
   "execution_count": 9,
   "metadata": {
    "colab": {},
    "colab_type": "code",
    "id": "2Wjyhn6jmPd0"
   },
   "outputs": [],
   "source": [
    "true_y0 = torch.tensor([[1., 1.]])\n",
    "t = torch.linspace(-15., 15., data_size)\n",
    "class Lambda3(nn.Module):\n",
    "    def __init__(self):\n",
    "        super(Lambda3, self).__init__()\n",
    "        self.fc1 = nn.Linear(2, 25, bias = False)\n",
    "        self.fc2 = nn.Linear(25, 50, bias = False)\n",
    "        self.fc3 = nn.Linear(50, 10, bias = False)\n",
    "        self.fc4 = nn.Linear(10, 2, bias = False)\n",
    "        self.relu = nn.ELU(inplace=True)\n",
    "        \n",
    "    def forward(self, t, y):\n",
    "        x = self.relu(self.fc1(y * t))\n",
    "        x = self.relu(self.fc2(x))\n",
    "        x = self.relu(self.fc3(x))\n",
    "        x = self.relu(self.fc4(x))\n",
    "        return x\n",
    "     \n",
    "with torch.no_grad():\n",
    "    true_y = odeint(Lambda3(), true_y0, t, method='dopri5')"
   ]
  },
  {
   "cell_type": "code",
   "execution_count": 10,
   "metadata": {
    "colab": {},
    "colab_type": "code",
    "id": "i6psvwfUqpfy"
   },
   "outputs": [],
   "source": [
    "class ODEFunc(nn.Module):\n",
    "    def __init__(self):\n",
    "        super(ODEFunc, self).__init__()\n",
    "        self.net = nn.Sequential(\n",
    "            nn.Linear(2, 150),\n",
    "            nn.Tanh(),\n",
    "            nn.Linear(150, 50),\n",
    "            nn.Tanh(),\n",
    "            nn.Linear(50, 50),\n",
    "            nn.Tanh(),\n",
    "            nn.Linear(50, 2),)\n",
    "        for m in self.net.modules():\n",
    "            if isinstance(m, nn.Linear):\n",
    "                nn.init.normal_(m.weight, mean=0, std=0.1)\n",
    "                nn.init.constant_(m.bias, val=0)\n",
    "\n",
    "    def forward(self, t, y):\n",
    "        return self.net(y)\n"
   ]
  },
  {
   "cell_type": "code",
   "execution_count": 11,
   "metadata": {
    "colab": {
     "base_uri": "https://localhost:8080/",
     "height": 521
    },
    "colab_type": "code",
    "id": "bUYHiVvEXhJY",
    "outputId": "c11b710f-e742-4430-8a65-5590aba2b144"
   },
   "outputs": [
    {
     "data": {
      "image/png": "[encoded data removed]",
      "text/plain": [
       "<Figure size 432x288 with 1 Axes>"
      ]
     },
     "metadata": {
      "needs_background": "light"
     },
     "output_type": "display_data"
    },
    {
     "data": {
      "image/png": "[encoded data removed]",
      "text/plain": [
       "<Figure size 432x288 with 1 Axes>"
      ]
     },
     "metadata": {
      "needs_background": "light"
     },
     "output_type": "display_data"
    }
   ],
   "source": [
    "plt.figure()\n",
    "plt.plot(t.numpy(), true_y.numpy()[:, 0, 0], t.numpy(), true_y.numpy()[:, 0, 1], 'g-')\n",
    "plt.show()\n",
    "\n",
    "plt.figure()\n",
    "plt.plot(true_y.numpy()[:, 0, 0], true_y.numpy()[:, 0, 1], 'g-')\n",
    "plt.show()"
   ]
  },
  {
   "cell_type": "code",
   "execution_count": 0,
   "metadata": {
    "colab": {},
    "colab_type": "code",
    "id": "Huz2sGY85azt"
   },
   "outputs": [],
   "source": [
    "  ii = 0\n",
    "  niters = 5000\n",
    "\n",
    "  func = ODEFunc()\n",
    "  optimizer = optim.RMSprop(func.parameters(), lr=1e-3)\n",
    "  end = time.time()\n",
    "\n",
    "  time_meter = RunningAverageMeter(0.97)\n",
    "  loss_meter = RunningAverageMeter(0.97)\n",
    "\n",
    "  for itr in range(1, niters + 1):\n",
    "      optimizer.zero_grad()\n",
    "      batch_y0, batch_t, batch_y = get_batch()\n",
    "      pred_y = odeint(func, batch_y0, batch_t)\n",
    "      loss = torch.mean(torch.abs(pred_y - batch_y))\n",
    "      loss.backward()\n",
    "      optimizer.step()\n",
    "\n",
    "      time_meter.update(time.time() - end)\n",
    "      loss_meter.update(loss.item())\n",
    "\n",
    "      if itr % 50 == 0:\n",
    "          with torch.no_grad():\n",
    "              pred_y = odeint(func, true_y0, t)\n",
    "              loss = torch.mean(torch.abs(pred_y - true_y))\n",
    "              print('Iter {:04d} | Total Loss {:.6f}'.format(itr, loss.item()))\n",
    "              visualize(true_y, pred_y, func, ii)\n",
    "              ii += 1\n",
    "\n",
    "      end = time.time()"
   ]
  },
  {
   "cell_type": "code",
   "execution_count": 12,
   "metadata": {
    "colab": {
     "base_uri": "https://localhost:8080/",
     "height": 1428
    },
    "colab_type": "code",
    "id": "y2RSZG4_xYhi",
    "outputId": "c650796b-d1d3-4b9b-c482-71058e6a0dfc"
   },
   "outputs": [],
   "source": [
    "# !zip -r /content/VOLTERLOTKA.zip /content/VOLTERLOTKA"
   ]
  },
  {
   "cell_type": "code",
   "execution_count": 0,
   "metadata": {
    "colab": {},
    "colab_type": "code",
    "id": "7Rj72H_DUFmP"
   },
   "outputs": [],
   "source": [
    "# from google.colab import files"
   ]
  },
  {
   "cell_type": "code",
   "execution_count": 0,
   "metadata": {
    "colab": {},
    "colab_type": "code",
    "id": "5gsoMmPpsucY"
   },
   "outputs": [],
   "source": [
    "# files.download(\"/content/AB.zip\")"
   ]
  },
  {
   "cell_type": "code",
   "execution_count": 0,
   "metadata": {
    "colab": {},
    "colab_type": "code",
    "id": "5rtBMnlYv8eW"
   },
   "outputs": [],
   "source": [
    "# import imageio\n",
    "# import glob"
   ]
  },
  {
   "cell_type": "code",
   "execution_count": 0,
   "metadata": {
    "colab": {},
    "colab_type": "code",
    "id": "XCMXdIizwDFl"
   },
   "outputs": [],
   "source": [
    "# kargs = { 'duration': 0.5 }\n",
    "# PATH = sorted(glob.glob('/content/VOLTERLOTKA/*.png'))\n",
    "\n",
    "# images = []\n",
    "# for filename in PATH:\n",
    "#     if 'ts' in filename:\n",
    "#       images.append(imageio.imread(filename))\n",
    "# imageio.mimsave('/content/VOLTERLOTKA/movie_ts.gif', images, **kargs)\n",
    "\n",
    "# images = []\n",
    "# for filename in PATH:\n",
    "#     if 'phase' in filename:\n",
    "#       images.append(imageio.imread(filename))\n",
    "# imageio.mimsave('/content/VOLTERLOTKA/movie_phase.gif', images, **kargs)"
   ]
  }
 ],
 "metadata": {
  "accelerator": "GPU",
  "colab": {
   "collapsed_sections": [],
   "name": "Neural ODE Basic.ipynb",
   "provenance": [],
   "version": "0.3.2"
  },
  "kernelspec": {
   "display_name": "Python 3",
   "language": "python",
   "name": "python3"
  },
  "language_info": {
   "codemirror_mode": {
    "name": "ipython",
    "version": 3
   },
   "file_extension": ".py",
   "mimetype": "text/x-python",
   "name": "python",
   "nbconvert_exporter": "python",
   "pygments_lexer": "ipython3",
   "version": "3.7.7"
  }
 },
 "nbformat": 4,
 "nbformat_minor": 1
}
